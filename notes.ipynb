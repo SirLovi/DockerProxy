{
 "metadata": {
  "language_info": {
   "codemirror_mode": {
    "name": "ipython",
    "version": 3
   },
   "file_extension": ".py",
   "mimetype": "text/x-python",
   "name": "python",
   "nbconvert_exporter": "python",
   "pygments_lexer": "ipython3",
   "version": 3
  },
  "orig_nbformat": 2
 },
 "nbformat": 4,
 "nbformat_minor": 2,
 "cells": [
  {
   "cell_type": "code",
   "execution_count": null,
   "metadata": {},
   "outputs": [],
   "source": [
    "Dictionary\n",
    "\n",
    "\n",
    "\n",
    "keys \n",
    "\n",
    "values\n",
    "\n",
    "hostname\n",
    "port\n",
    "\n",
    "json = {\n",
    "    'tasks': http://py_task:8881/tasks,\n",
    "    'events': http://py_events:8881,\n",
    "    'ui': http://ui:3000,\n",
    "}\n",
    "\n",
    "http://server.cz:8080/tasks/hlavni/vedlejsi\n",
    "\n",
    "http://ui:3000/favicon.ico\n",
    "\n",
    "http://py_task:8881/taskshttp://\n",
    "\n",
    "rootPart\n",
    "\n",
    "serverToAsk = json[rootPart]\n",
    "\n",
    "fullAdress = serverToAsk + uri\n",
    "\n",
    "async def manageRequest(parms...):\n",
    "\n",
    "    result = makeRequest(fullAdress)\n",
    "    return result"
   ]
  }
 ]
}